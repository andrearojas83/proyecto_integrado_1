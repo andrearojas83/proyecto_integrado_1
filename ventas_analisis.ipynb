Análisis de Ventas de Tecnología
Este notebook analiza los datos de ventas de productos tecnológicos durante el año 2023.

# Importar librerías necesarias
import pandas as pd
import matplotlib.pyplot as plt
import seaborn as sns
# Cargar datos
# Reemplaza la URL con la de tu archivo raw en GitHub
url = 'https://raw.githubusercontent.com/hcgalvantech/proyecto_integrado_xxxxxx/refs/heads/main/ventas_tecnologia.csv'
df = pd.read_csv(url)
df.head()
Mes	Laptops	Smartphones	Tablets	Auriculares	SmartTV
0	enero 2023	45	120	35	89	12
1	febrero 2023	38	145	42	95	15
2	marzo 2023	52	135	38	102	18
3	abril 2023	49	155	45	115	20
4	mayo 2023	55	160	48	125	22
# Crear gráfico de líneas para todas las categorías
plt.figure(figsize=(15, 8))
for columna in df.columns[1:]:  # Excluimos la columna 'Mes'
    plt.plot(df['Mes'], df[columna], marker='o', label=columna)

plt.title('Ventas de Productos Tecnológicos 2023')
plt.xlabel('Mes')
plt.ylabel('Unidades Vendidas')
plt.xticks(rotation=45)
plt.legend()
plt.grid(True)
plt.tight_layout()
plt.show()

Espacio para análisis adicional del alumno
En esta sección puedes agregar tu propio código para análisis adicionales.

# prompt: generar datos descriptivos

# Resumen estadístico de las ventas
print(df.describe())

# Análisis de ventas por categoría
for columna in df.columns[1:]:
  print(f"\nAnálisis de ventas para {columna}:")
  print(df[columna].describe())
  plt.figure(figsize=(8, 6))
  plt.plot(df['Mes'], df[columna], marker='o')
  plt.title(f'Ventas de {columna} en 2023')
  plt.xlabel('Mes')
  plt.ylabel('Unidades Vendidas')
  plt.xticks(rotation=45)
  plt.grid(True)
  plt.show()
         Laptops  Smartphones    Tablets  Auriculares    SmartTV
count  12.000000    12.000000  12.000000    12.000000  12.000000
mean   61.166667   173.333333  51.833333   134.083333  24.583333
std    16.196707    31.790031  10.684171    30.964667   8.039203
min    38.000000   120.000000  35.000000    89.000000  12.000000
25%    51.250000   152.500000  44.250000   111.750000  19.500000
50%    59.000000   177.500000  53.000000   136.500000  24.500000
75%    66.250000   191.250000  58.500000   149.750000  28.500000
max    95.000000   230.000000  70.000000   190.000000  40.000000

Análisis de ventas para Laptops:
count    12.000000
mean     61.166667
std      16.196707
min      38.000000
25%      51.250000
50%      59.000000
75%      66.250000
max      95.000000
Name: Laptops, dtype: float64

Análisis de ventas para Smartphones:
count     12.000000
mean     173.333333
std       31.790031
min      120.000000
25%      152.500000
50%      177.500000
75%      191.250000
max      230.000000
Name: Smartphones, dtype: float64

Análisis de ventas para Tablets:
count    12.000000
mean     51.833333
std      10.684171
min      35.000000
25%      44.250000
50%      53.000000
75%      58.500000
max      70.000000
Name: Tablets, dtype: float64

Análisis de ventas para Auriculares:
count     12.000000
mean     134.083333
std       30.964667
min       89.000000
25%      111.750000
50%      136.500000
75%      149.750000
max      190.000000
Name: Auriculares, dtype: float64

Análisis de ventas para SmartTV:
count    12.000000
mean     24.583333
std       8.039203
min      12.000000
25%      19.500000
50%      24.500000
75%      28.500000
max      40.000000
Name: SmartTV, dtype: float64

